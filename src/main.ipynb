{
 "cells": [
  {
   "cell_type": "code",
   "execution_count": 1,
   "metadata": {},
   "outputs": [],
   "source": [
    "from utils import *"
   ]
  },
  {
   "attachments": {},
   "cell_type": "markdown",
   "metadata": {},
   "source": [
    "# Check Frame Lost"
   ]
  },
  {
   "cell_type": "code",
   "execution_count": 2,
   "metadata": {},
   "outputs": [
    {
     "name": "stdout",
     "output_type": "stream",
     "text": [
      "duration-xml  video-xml  file\n",
      "        -2.8    24131.7  12962_20230329_043049_8点MC.mp4\n",
      "        -1.8    15250.2  12962_20230329_083456_8点MC.mp4\n",
      "        -2.8    29730.3  21263282_20230329_045632_萌萌萌新MC终末地旅行.mp4\n",
      "    -17716.1      147.5  21263282_20230329_070343_萌萌萌新MC终末地旅行.mp4\n",
      "    -35323.0     8335.5  25206807_20230329_042157_第三天崩崩崩.mp4\n",
      "        -5.8    11847.0  25206807_20230329_065206_MCMCMC.mp4\n",
      "    -21769.5     5456.5  47867_20230329_044736_打新的女神异闻录，MC.mp4\n",
      "    -20018.6       15.7  47867_20230329_103024_MC.mp4\n",
      "         0.7    36372.9  4910271_20230329_051139_方块人！.mp4\n",
      "        -1.7    36079.9  4910271_20230329_052555_方块人！.mp4\n",
      "        -7.5    16712.1  4910271_20230329_053035_方块人！.mp4\n",
      "        -6.4    20343.9  92613_20230329_022739_mc八点正式开始玩，现在测一测.mp4\n",
      "        -7.4    15723.0  92613_20230329_095610_mc八点正式开始玩，现在测一测.mp4\n",
      "        -3.0    11632.2  92613_20230329_095623_mc八点正式开始玩，现在测一测.mp4\n",
      "        -3.3    11614.3  92613_20230329_110453_mc八点正式开始玩，现在测一测.mp4\n"
     ]
    }
   ],
   "source": [
    "dir = \"/mnt/d/Videos/ApixC/apixC_MC终末旅行/footages/day1/\"\n",
    "\n",
    "# print duration inconsistency for all files in the directory\n",
    "print(\"duration-xml  video-xml  file\")\n",
    "for file in os.listdir(dir):\n",
    "    if file.endswith(\".flv\") or file.endswith(\".mp4\"):\n",
    "        print(\"{:>12.1f}  {:>9.1f}  {}\".format(*get_duration_inconsistency(os.path.join(dir, file)), file))"
   ]
  },
  {
   "cell_type": "code",
   "execution_count": null,
   "metadata": {},
   "outputs": [],
   "source": []
  }
 ],
 "metadata": {
  "kernelspec": {
   "display_name": "base",
   "language": "python",
   "name": "python3"
  },
  "language_info": {
   "codemirror_mode": {
    "name": "ipython",
    "version": 3
   },
   "file_extension": ".py",
   "mimetype": "text/x-python",
   "name": "python",
   "nbconvert_exporter": "python",
   "pygments_lexer": "ipython3",
   "version": "3.10.10"
  },
  "orig_nbformat": 4
 },
 "nbformat": 4,
 "nbformat_minor": 2
}
