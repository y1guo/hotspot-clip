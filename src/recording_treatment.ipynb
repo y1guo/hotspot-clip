{
 "cells": [
  {
   "cell_type": "code",
   "execution_count": 1,
   "metadata": {},
   "outputs": [],
   "source": [
    "import os\n",
    "import datetime\n",
    "import xml.etree.ElementTree as ET\n",
    "import matplotlib.pyplot as plt\n",
    "from typing import Tuple\n",
    "from bisect import bisect_left, bisect_right\n"
   ]
  },
  {
   "cell_type": "markdown",
   "metadata": {},
   "source": [
    "# Remux"
   ]
  },
  {
   "cell_type": "code",
   "execution_count": 101,
   "metadata": {},
   "outputs": [
    {
     "name": "stdout",
     "output_type": "stream",
     "text": [
      "ffmpeg -i 47867_20220721_024552_猫猫模拟器.flv -c:a copy -c:v copy 47867_20220721_024552_猫猫模拟器.mp4; ffmpeg -i 92613_20220721_041919_末世生存第二季dlc.flv -c:a copy -c:v copy 92613_20220721_041919_末世生存第二季dlc.mp4; ffmpeg -i 92613_20220721_051202_末世生存第二季dlc.flv -c:a copy -c:v copy 92613_20220721_051202_末世生存第二季dlc.mp4\n"
     ]
    }
   ],
   "source": [
    "dir = os.path.abspath(\"/mnt/c/Users/yiguo/Desktop/apixC_末日合集/footages/\")\n",
    "# dir = os.path.abspath(\"../recordings/\")\n",
    "\n",
    "command_list = []\n",
    "for file in os.listdir(dir):\n",
    "    if file.endswith(\".flv\"):\n",
    "        command = \"ffmpeg -i \" + file + \" -c:a copy -c:v copy \" + file[:-3] + \"mp4\"\n",
    "        command_list.append(command)\n",
    "\n",
    "\n",
    "command_merged = \"; \".join(command_list)\n",
    "print(command_merged)\n"
   ]
  },
  {
   "cell_type": "markdown",
   "metadata": {},
   "source": [
    "# Split Recording"
   ]
  },
  {
   "cell_type": "code",
   "execution_count": 56,
   "metadata": {},
   "outputs": [
    {
     "name": "stdout",
     "output_type": "stream",
     "text": [
      "Preparing to split\n",
      "/mnt/c/Users/yiguo/Desktop/apixC_末日合集/footages/47867_20220801_020712_异度之刃3.mp4\n",
      "/mnt/c/Users/yiguo/Desktop/apixC_末日合集/footages/47867_20220801_020712_异度之刃3.xml\n",
      "at 03:09:44\n",
      "Expecting to generate\n",
      "/mnt/c/Users/yiguo/Desktop/apixC_末日合集/footages/47867_20220801_020712_异度之刃3_part1.mp4\n",
      "/mnt/c/Users/yiguo/Desktop/apixC_末日合集/footages/47867_20220801_020712_异度之刃3_part1.xml\n",
      "/mnt/c/Users/yiguo/Desktop/apixC_末日合集/footages/47867_20220801_051656_异度之刃3_part2.mp4\n",
      "/mnt/c/Users/yiguo/Desktop/apixC_末日合集/footages/47867_20220801_051656_异度之刃3_part2.xml\n"
     ]
    }
   ],
   "source": [
    "# dir = os.path.abspath(\"../recordings\") + \"/\"\n",
    "dir = os.path.abspath(\"/mnt/c/Users/yiguo/Desktop/apixC_末日合集/footages/\") + \"/\"\n",
    "filename = \"47867_20220801_020712_异度之刃3\"\n",
    "split_time = \"03:09:44\"\n",
    "\n",
    "\n",
    "assert len(split_time) == 8\n",
    "assert len(split_time.split(\":\")) == 3\n",
    "tmp = split_time.split(\":\")\n",
    "split_sec = 3600 * float(tmp[0]) + 60 * float(tmp[1]) + float(tmp[2])\n",
    "\n",
    "recording_path = dir + filename + \".mp4\"\n",
    "xml_path = dir + filename + \".xml\"\n",
    "assert os.path.isfile(recording_path)\n",
    "assert os.path.isfile(xml_path)\n",
    "\n",
    "\n",
    "filename_part1 = filename + \"_part1\"\n",
    "filename_part2 = filename + \"_part2\"\n",
    "tmp = filename_part2.split(\"_\", 3)\n",
    "start_time = datetime.datetime.strptime(\"\".join(tmp[1:3]), \"%Y%m%d%H%M%S\")\n",
    "start_time_part2 = start_time + datetime.timedelta(seconds=split_sec)\n",
    "filename_part2 = (\n",
    "    tmp[0] + datetime.datetime.strftime(start_time_part2, \"_%Y%m%d_%H%M%S_\") + tmp[3]\n",
    ")\n",
    "recording_part1_path = dir + filename_part1 + \".mp4\"\n",
    "recording_part2_path = dir + filename_part2 + \".mp4\"\n",
    "xml_part1_path = dir + filename_part1 + \".xml\"\n",
    "xml_part2_path = dir + filename_part2 + \".xml\"\n",
    "\n",
    "\n",
    "print(\"Preparing to split\")\n",
    "print(recording_path)\n",
    "print(xml_path)\n",
    "print(\"at \" + split_time)\n",
    "print(\"Expecting to generate\")\n",
    "print(recording_part1_path)\n",
    "print(xml_part1_path)\n",
    "print(recording_part2_path)\n",
    "print(xml_part2_path)\n"
   ]
  },
  {
   "cell_type": "markdown",
   "metadata": {},
   "source": [
    "### Split Video"
   ]
  },
  {
   "cell_type": "code",
   "execution_count": 57,
   "metadata": {},
   "outputs": [
    {
     "name": "stdout",
     "output_type": "stream",
     "text": [
      "ffmpeg -i 47867_20220801_020712_异度之刃3.mp4 -to 03:09:44 -c:a copy -c:v copy 47867_20220801_020712_异度之刃3_part1.mp4; ffmpeg -i 47867_20220801_020712_异度之刃3.mp4 -ss 03:09:44 -c:a copy -c:v copy 47867_20220801_051656_异度之刃3_part2.mp4\n"
     ]
    }
   ],
   "source": [
    "command_list = []\n",
    "command_list.append(\n",
    "    \"ffmpeg -i \"\n",
    "    + filename\n",
    "    + \".mp4 -to \"\n",
    "    + split_time\n",
    "    + \" -c:a copy -c:v copy \"\n",
    "    + filename_part1\n",
    "    + \".mp4\"\n",
    ")\n",
    "command_list.append(\n",
    "    \"ffmpeg -i \"\n",
    "    + filename\n",
    "    + \".mp4 -ss \"\n",
    "    + split_time\n",
    "    + \" -c:a copy -c:v copy \"\n",
    "    + filename_part2\n",
    "    + \".mp4\"\n",
    ")\n",
    "if \" \" in filename:\n",
    "    print(\"Please remove spaces in the filename\")\n",
    "else:\n",
    "    print(\"; \".join(command_list))\n"
   ]
  },
  {
   "cell_type": "markdown",
   "metadata": {},
   "source": [
    "### Split Danmaku"
   ]
  },
  {
   "cell_type": "code",
   "execution_count": 58,
   "metadata": {},
   "outputs": [],
   "source": [
    "def split_danmaku(xml_file: str, split_sec: float) -> Tuple[str, str]:\n",
    "    part1, part2 = [], []\n",
    "\n",
    "    for line in xml_file.split(\"\\n\"):\n",
    "        if line.startswith(\"  <d\") or line.startswith(\"  <sc\"):\n",
    "            # continue\n",
    "            [seg1, tmp] = line.split('\"', 1)\n",
    "            seg1 += '\"'\n",
    "            [seg2, seg3] = tmp.split(\".\", 1)\n",
    "            seg2 += \".\" + seg3[:3]\n",
    "            seg3 = seg3[3:]\n",
    "\n",
    "            danmaku_time = float(seg2)\n",
    "            if danmaku_time < split_sec:\n",
    "                part1.append(seg1 + f\"{danmaku_time:.3f}\" + seg3)\n",
    "            else:\n",
    "                danmaku_time -= split_sec\n",
    "                part2.append(seg1 + f\"{danmaku_time:.3f}\" + seg3)\n",
    "        elif line.startswith(\"  <BililiveRecorderRecordInfo\"):\n",
    "            # continue\n",
    "            [seg1, tmp] = line.split('start_time=\"', 1)\n",
    "            seg1 += 'start_time=\"'\n",
    "            [seg2, seg3] = tmp.split('\"', 1)\n",
    "            seg3 = '\"' + seg3\n",
    "            start_time = datetime.datetime.strptime(seg2[:26], \"%Y-%m-%dT%H:%M:%S.%f\")\n",
    "            start_time += datetime.timedelta(seconds=split_sec)\n",
    "            seg2 = (\n",
    "                datetime.datetime.strftime(start_time, \"%Y-%m-%dT%H:%M:%S.%f\")\n",
    "                + seg2[26:]\n",
    "            )\n",
    "            new_line = seg1 + seg2 + seg3\n",
    "            part1.append(line)\n",
    "            part2.append(new_line)\n",
    "        else:\n",
    "            part1.append(line)\n",
    "            part2.append(line)\n",
    "\n",
    "    return \"\\n\".join(part1), \"\\n\".join(part2)\n"
   ]
  },
  {
   "cell_type": "code",
   "execution_count": 81,
   "metadata": {},
   "outputs": [],
   "source": [
    "def split_danmaku2(xml_file: str, split_sec: float) -> Tuple[str, str]:\n",
    "    root = ET.fromstring(xml_file)\n",
    "    for child in root:\n",
    "        print(child.attrib)\n",
    "\n",
    "\n",
    "\n",
    "    return '', ''"
   ]
  },
  {
   "cell_type": "code",
   "execution_count": 59,
   "metadata": {},
   "outputs": [
    {
     "name": "stdout",
     "output_type": "stream",
     "text": [
      "written file to /mnt/c/Users/yiguo/Desktop/apixC_末日合集/footages/47867_20220801_020712_异度之刃3_part1.xml\n",
      "written file to /mnt/c/Users/yiguo/Desktop/apixC_末日合集/footages/47867_20220801_051656_异度之刃3_part2.xml\n"
     ]
    }
   ],
   "source": [
    "with open(dir + filename + \".xml\", \"r\") as f:\n",
    "    xml_file = f.read()\n",
    "\n",
    "\n",
    "part1, part2 = split_danmaku(xml_file, split_sec)\n",
    "# part1, part2 = split_danmaku2(xml_file, split_sec)\n",
    "\n",
    "\n",
    "with open(dir + filename_part1 + \".xml\", \"w\") as f:\n",
    "    f.write(part1)\n",
    "    print(\"written file to \" + dir + filename_part1 + \".xml\")\n",
    "\n",
    "\n",
    "with open(dir + filename_part2 + \".xml\", \"w\") as f:\n",
    "    f.write(part2)\n",
    "    print(\"written file to \" + dir + filename_part2 + \".xml\")\n"
   ]
  },
  {
   "cell_type": "markdown",
   "metadata": {},
   "source": [
    "# Filter, Relocate Danmaku and Transform SC"
   ]
  },
  {
   "cell_type": "code",
   "execution_count": 67,
   "metadata": {},
   "outputs": [],
   "source": [
    "dir = \"/mnt/c/Users/yiguo/Desktop/apixC_末日合集/footages/\"\n",
    "# dir = \"/mnt/c/Users/yiguo/Downloads/\"\n",
    "black_list = ['1', '嗷呜', \"老板大气！点点红包抽礼物！\", '打卡', '第一时间直播最新最热单机游戏，欢迎关注', '赞', '妙啊', '有点东西', '很有精神', '爱你', '打电动', '吃零食', '晚安喵', '棒', '来了来了', '原地去世', '永远爱你', '抱歉']\n",
    "\n",
    "\n",
    "for file in os.listdir(dir):\n",
    "    if file.endswith(\".xml\") and not file.endswith(\"_filtered.xml\"):\n",
    "        tree = ET.parse(os.path.join(dir, file))\n",
    "        root = tree.getroot()\n",
    "        info = root.find(\"BililiveRecorderRecordInfo\")\n",
    "        start_time = datetime.datetime.strptime(info.attrib[\"start_time\"][:26], \"%Y-%m-%dT%H:%M:%S.%f\")\n",
    "        # filter danmaku\n",
    "        for child in root.findall(\"d\"):\n",
    "            if child.text in black_list:\n",
    "                root.remove(child)\n",
    "        # find average danmaku delay\n",
    "        danmaku_delay = []\n",
    "        for child in root.findall(\"d\"):\n",
    "            p = child.attrib[\"p\"].split(\",\")\n",
    "            sec = float(p[0])\n",
    "            new_sec = float(p[4]) / 1000 - start_time.timestamp()\n",
    "            danmaku_delay.append(sec - new_sec)\n",
    "        average_delay = sum(danmaku_delay) / len(danmaku_delay)\n",
    "        # treat danmaku\n",
    "        for child in root.findall(\"d\"):\n",
    "            p = child.attrib[\"p\"].split(\",\")\n",
    "            new_sec = float(p[4]) / 1000 - start_time.timestamp() + average_delay\n",
    "            p[0] = f\"{new_sec:.3f}\"\n",
    "            p[1] = \"1\"\n",
    "            child.attrib[\"p\"] = \",\".join(p)\n",
    "        # treat sc\n",
    "        for child in root.findall(\"sc\"):\n",
    "            sec = child.attrib[\"ts\"]\n",
    "            user = child.attrib[\"user\"]\n",
    "            uid = child.attrib[\"uid\"]\n",
    "            price = child.attrib[\"price\"]\n",
    "            child.tag = \"d\"\n",
    "            timestamp = str(round((start_time.timestamp() + float(sec)) * 1000))\n",
    "            child.attrib = {\"p\": \",\".join([sec, \"3\", \"25\", \"16772431\", timestamp, \"0\", uid, \"0\"]), \"user\": user}\n",
    "            if child.text == None:\n",
    "                child.text = f\"【无言SC¥{price}】\" + user\n",
    "            else:\n",
    "                child.text = f\"【SC¥{price}】\" + user + \":\" + child.text\n",
    "\n",
    "\n",
    "        tree.write(os.path.join(dir, file[:-4] + \"_filtered.xml\"), encoding=\"utf-8\", xml_declaration=True)"
   ]
  },
  {
   "cell_type": "markdown",
   "metadata": {},
   "source": [
    "# Extract Danmaku"
   ]
  },
  {
   "cell_type": "code",
   "execution_count": 33,
   "metadata": {},
   "outputs": [],
   "source": [
    "def extract_danmaku(dir: str, start_time: str, duration: str):\n",
    "    '''Ex:\n",
    "\n",
    "    dir = \"/mnt/c/Users/yiguo/Desktop/apixC_末日合集/progress_bar/\"\n",
    "\n",
    "    start_time = \"20220728_040246\"\n",
    "\n",
    "    duration = \"04:06:41\"\n",
    "    '''\n",
    "\n",
    "    # load time\n",
    "    start_datetime = datetime.datetime.strptime(start_time, \"%Y%m%d_%H%M%S\")\n",
    "    duration_sec = 0\n",
    "    for num_str in duration.split(\":\"):\n",
    "        duration_sec *= 60\n",
    "        duration_sec += int(num_str)\n",
    "    end_datetime = start_datetime + datetime.timedelta(seconds=duration_sec)\n",
    "    start_timestamp = start_datetime.timestamp()\n",
    "    end_timestamp = end_datetime.timestamp()\n",
    "\n",
    "\n",
    "    # load all xml files\n",
    "    xml_list = []\n",
    "    for file in os.listdir(dir):\n",
    "        if file.endswith(\".xml\"):\n",
    "            tree = ET.parse(os.path.join(dir, file))\n",
    "            root = tree.getroot()\n",
    "            xml_list.append({\"file\": file, \"root\": root})\n",
    "\n",
    "\n",
    "    # load all danmaku we want to extract\n",
    "    danmaku_list = []\n",
    "    for obj in xml_list:\n",
    "        count = 0\n",
    "        for child in obj[\"root\"]:\n",
    "            if child.tag == \"d\":\n",
    "                p = child.attrib[\"p\"].split(\",\")\n",
    "                timestamp = float(p[4]) / 1000\n",
    "                if start_timestamp <= timestamp and timestamp < end_timestamp:\n",
    "                    count += 1\n",
    "                    sec = round(timestamp - start_timestamp)\n",
    "                    timecode = f\"{sec // 3600:02d}:{(sec // 60) % 60:02d}:{sec % 60:02d}\"\n",
    "                    danmaku_list.append({\"timestamp\": timestamp, \"sec\": sec,\n",
    "                        \"timecode\": timecode, \"text\": child.text, \"user\": child.attrib[\"user\"], \"uid\": p[-2]\n",
    "                    })\n",
    "\n",
    "\n",
    "    # sort in ascending order\n",
    "    danmaku_list.sort(key=lambda e:e[\"timestamp\"])\n",
    "\n",
    "    \n",
    "    return danmaku_list"
   ]
  },
  {
   "cell_type": "markdown",
   "metadata": {},
   "source": [
    "# Generate Overall Danmaku Hotspot Diagram"
   ]
  },
  {
   "cell_type": "code",
   "execution_count": 50,
   "metadata": {},
   "outputs": [],
   "source": [
    "dir = \"/mnt/c/Users/yiguo/Desktop/apixC_末日合集/progress_bar/\"\n",
    "start_time = \"20220730_042559\"\n",
    "duration = \"03:27:38\"\n",
    "black_list = ['1', '嗷呜', '打卡', '第一时间直播最新最热单机游戏，欢迎关注', '赞', '妙啊', '有点东西', '很有精神', '爱你', '打电动', '吃零食', '晚安喵', '棒', '来了来了', '原地去世', '永远爱你', '抱歉']\n",
    "\n",
    "\n",
    "danmaku_list = extract_danmaku(dir, start_time, duration)\n",
    "sec_list = [d[\"sec\"] for d in danmaku_list if d[\"text\"] not in black_list]\n",
    "sec_list.sort() # sort again just to make sure\n"
   ]
  },
  {
   "cell_type": "code",
   "execution_count": 54,
   "metadata": {},
   "outputs": [
    {
     "name": "stdout",
     "output_type": "stream",
     "text": [
      "Segment duration = 4152.667 sec\n"
     ]
    },
    {
     "data": {
      "image/png": "[encoded data removed]",
      "text/plain": [
       "<Figure size 3840x82 with 1 Axes>"
      ]
     },
     "metadata": {
      "needs_background": "light"
     },
     "output_type": "display_data"
    },
    {
     "data": {
      "image/png": "[encoded data removed]",
      "text/plain": [
       "<Figure size 3840x82 with 1 Axes>"
      ]
     },
     "metadata": {
      "needs_background": "light"
     },
     "output_type": "display_data"
    },
    {
     "data": {
      "image/png": "[encoded data removed]",
      "text/plain": [
       "<Figure size 3840x82 with 1 Axes>"
      ]
     },
     "metadata": {
      "needs_background": "light"
     },
     "output_type": "display_data"
    }
   ],
   "source": [
    "npoint = 10000\n",
    "average_radius = 5 # seconds\n",
    "resolution = [3840, 82] # pixels\n",
    "nsegment = 3\n",
    "# color = \"#f8a8b5\"\n",
    "# alpha = 1.0\n",
    "color = \"#ffeea9\"\n",
    "alpha = 1.0\n",
    "save_dir = \"/mnt/c/Users/yiguo/Desktop/apixC_末日合集/progress_bar/\"\n",
    "\n",
    "\n",
    "duration_sec = 0\n",
    "for num_str in duration.split(\":\"):\n",
    "        duration_sec *= 60\n",
    "        duration_sec += int(num_str)\n",
    "print(f\"Segment duration = {duration_sec / nsegment:.3f} sec\")\n",
    "\n",
    "for iseg in range(nsegment):\n",
    "    xmin = duration_sec / nsegment * iseg\n",
    "    xmax = duration_sec / nsegment * (iseg + 1)\n",
    "    xstep = (xmax - xmin) / (npoint - 1)\n",
    "    x_list = [xmin + xstep * _ for _ in range(npoint)]\n",
    "\n",
    "    xmin_index = bisect_left(sec_list, xmin)\n",
    "    xmax_index = bisect_right(sec_list, xmax)\n",
    "    working_list = [-float('inf')] + sec_list[xmin_index: xmax_index] + [float('inf')]\n",
    "    hi, lo = 0, 0\n",
    "    y_list = []\n",
    "    for x in x_list:\n",
    "        left = x - average_radius\n",
    "        right = x + average_radius\n",
    "        while working_list[lo] < left:\n",
    "            lo += 1\n",
    "        while working_list[hi] < right:\n",
    "            hi += 1\n",
    "        y_list.append(hi - lo)\n",
    "\n",
    "    dpi = 1\n",
    "    figsize = tuple(_ / dpi for _ in resolution)\n",
    "    plt.figure(figsize=figsize, dpi=dpi)\n",
    "    plt.fill_between(x_list, y_list, [0] * len(x_list), color=color, alpha=alpha)\n",
    "    plt.xlim([xmin, xmax])\n",
    "    plt.ylim([0, max(y_list)])\n",
    "    plt.axis('off')\n",
    "    plt.savefig(save_dir + \"hotspot_\" + start_time + \"_\" + color + \"_part\" + str(iseg + 1) + \".png\", bbox_inches='tight')\n",
    "    plt.show()"
   ]
  }
 ],
 "metadata": {
  "kernelspec": {
   "display_name": "Python 3.9.12 ('base')",
   "language": "python",
   "name": "python3"
  },
  "language_info": {
   "codemirror_mode": {
    "name": "ipython",
    "version": 3
   },
   "file_extension": ".py",
   "mimetype": "text/x-python",
   "name": "python",
   "nbconvert_exporter": "python",
   "pygments_lexer": "ipython3",
   "version": "3.9.12"
  },
  "orig_nbformat": 4,
  "vscode": {
   "interpreter": {
    "hash": "b5684b4fc44c615c1f1ed8097b18f89b802073e4fae62db03dbfbc0fa0f8d42b"
   }
  }
 },
 "nbformat": 4,
 "nbformat_minor": 2
}
