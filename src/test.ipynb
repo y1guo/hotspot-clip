{
 "cells": [
  {
   "cell_type": "code",
   "execution_count": 1,
   "metadata": {},
   "outputs": [],
   "source": [
    "%load_ext autoreload\n",
    "%autoreload 2\n",
    "from utils import *\n",
    "import time\n",
    "import json\n",
    "import re"
   ]
  },
  {
   "attachments": {},
   "cell_type": "markdown",
   "metadata": {},
   "source": [
    "# Check Frame Lost"
   ]
  },
  {
   "cell_type": "code",
   "execution_count": 19,
   "metadata": {},
   "outputs": [
    {
     "data": {
      "text/plain": [
       "datetime.datetime(2022, 7, 20, 5, 9, 30, 4967, tzinfo=datetime.timezone(datetime.timedelta(days=-1, seconds=61200)))"
      ]
     },
     "execution_count": 19,
     "metadata": {},
     "output_type": "execute_result"
    }
   ],
   "source": [
    "get_video_creation_time(\"../test_files/47867_20220720_050930_MC末世生存day2.mp4\")"
   ]
  },
  {
   "cell_type": "code",
   "execution_count": 3,
   "metadata": {},
   "outputs": [
    {
     "data": {
      "text/plain": [
       "datetime.datetime(2022, 7, 20, 5, 9, 30, 4967, tzinfo=datetime.timezone(datetime.timedelta(days=-1, seconds=61200)))"
      ]
     },
     "execution_count": 3,
     "metadata": {},
     "output_type": "execute_result"
    }
   ],
   "source": [
    "get_xml_creation_time(\"../test_files/47867_20220720_050930_MC末世生存day2.xml\")"
   ]
  },
  {
   "cell_type": "code",
   "execution_count": 4,
   "metadata": {},
   "outputs": [
    {
     "data": {
      "text/plain": [
       "datetime.datetime(2022, 7, 20, 20, 50, 37, 480763, tzinfo=<DstTzInfo 'US/Pacific' PDT-1 day, 17:00:00 DST>)"
      ]
     },
     "execution_count": 4,
     "metadata": {},
     "output_type": "execute_result"
    }
   ],
   "source": [
    "get_file_modification_time(\"../test_files/47867_20220720_050930_MC末世生存day2.mp4\")"
   ]
  },
  {
   "cell_type": "code",
   "execution_count": 5,
   "metadata": {},
   "outputs": [
    {
     "data": {
      "text/plain": [
       "datetime.datetime(2022, 7, 20, 5, 46, 47, 232318, tzinfo=<DstTzInfo 'US/Pacific' PDT-1 day, 17:00:00 DST>)"
      ]
     },
     "execution_count": 5,
     "metadata": {},
     "output_type": "execute_result"
    }
   ],
   "source": [
    "get_file_modification_time(\"../test_files/47867_20220720_050930_MC末世生存day2.xml\")"
   ]
  },
  {
   "cell_type": "code",
   "execution_count": 6,
   "metadata": {},
   "outputs": [
    {
     "name": "stderr",
     "output_type": "stream",
     "text": [
      "Error: get_file_modification_time failed, file = testfile.flv\n"
     ]
    }
   ],
   "source": [
    "get_file_modification_time(\"testfile.flv\")"
   ]
  },
  {
   "cell_type": "code",
   "execution_count": 7,
   "metadata": {},
   "outputs": [
    {
     "data": {
      "text/plain": [
       "2242.987"
      ]
     },
     "execution_count": 7,
     "metadata": {},
     "output_type": "execute_result"
    }
   ],
   "source": [
    "get_video_duration(\"../test_files/47867_20220720_050930_MC末世生存day2.mp4\")"
   ]
  },
  {
   "cell_type": "code",
   "execution_count": 8,
   "metadata": {},
   "outputs": [
    {
     "name": "stderr",
     "output_type": "stream",
     "text": [
      "Error: video_duration failed, file = testfile.flv\n"
     ]
    },
    {
     "data": {
      "text/plain": [
       "0"
      ]
     },
     "execution_count": 8,
     "metadata": {},
     "output_type": "execute_result"
    }
   ],
   "source": [
    "get_video_duration(\"testfile.flv\")"
   ]
  },
  {
   "cell_type": "code",
   "execution_count": 9,
   "metadata": {},
   "outputs": [
    {
     "name": "stdout",
     "output_type": "stream",
     "text": [
      "56467.475796 2237.227351 2242.987\n"
     ]
    },
    {
     "data": {
      "text/plain": [
       "(5.759649000000081, 54230.248445)"
      ]
     },
     "execution_count": 9,
     "metadata": {},
     "output_type": "execute_result"
    }
   ],
   "source": [
    "get_duration_inconsistency(\"../test_files/47867_20220720_050930_MC末世生存day2.mp4\")"
   ]
  },
  {
   "cell_type": "code",
   "execution_count": 18,
   "metadata": {},
   "outputs": [
    {
     "data": {
      "text/plain": [
       "datetime.datetime(2023, 4, 1, 23, 55, 4, 763468, tzinfo=datetime.timezone(datetime.timedelta(days=-1, seconds=61200)))"
      ]
     },
     "execution_count": 18,
     "metadata": {},
     "output_type": "execute_result"
    }
   ],
   "source": [
    "get_video_creation_time(\"/mnt/d/Videos/ApixC/apixC_MC终末旅行/transcode/12962_20230401_235504_玩MC.flv\")"
   ]
  },
  {
   "cell_type": "code",
   "execution_count": 28,
   "metadata": {},
   "outputs": [
    {
     "name": "stdout",
     "output_type": "stream",
     "text": [
      "duration-xml  video-xml  file\n",
      "        -1.1       -0.0  12962_20230401_235504_玩MC.flv\n",
      "        -0.5       -0.0  12962_20230402_045657_先MC后狼人杀.flv\n",
      "        -3.5       -0.0  12962_20230402_101354_MC.flv\n",
      "         4.1       -0.0  12962_20230402_231554_MC.flv\n",
      "        -6.0      -11.9  12962_20230403_031215_MC.flv\n",
      "        -1.3       -0.0  12962_20230403_041527_MC.flv\n",
      "        -6.0      -11.9  12962_20230403_095215_MC.flv\n",
      "        -1.0       -0.0  12962_20230403_230547_证明自己.flv\n",
      "        -2.4      -10.7  12962_20230404_045559_先那个.flv\n",
      "         0.8       -0.0  12962_20230404_050444_先那个.flv\n",
      "         2.8       -0.0  12962_20230404_085447_先那个.flv\n",
      "        -3.1      -14.5  12962_20230404_095149_先那个.flv\n",
      "        -1.9       -0.0  12962_20230404_095408_先那个.flv\n",
      "        -0.2       -0.0  12962_20230404_235558_MC.flv\n",
      "        -6.0      -12.0  12962_20230405_033407_轰隆隆小姐.flv\n",
      "        -6.2      -14.2  12962_20230405_042336_玩MC.flv\n",
      "        -7.2      -11.8  21263282_20230401_130421_新新新萌MC终末地旅行DAY4.flv\n",
      "         0.3       -0.0  21263282_20230401_172104_新新新萌MC终末地旅行DAY4.flv\n",
      "        -1.2       -0.0  21263282_20230402_040338_萌新新新MC终末地旅行DAY5.flv\n",
      "         3.2       -0.0  21263282_20230402_062213_萌新新新MC终末地旅行DAY5.flv\n",
      "        -2.3       -0.0  21263282_20230402_062226_萌新新新MC终末地旅行DAY5.flv\n",
      "         3.5       -0.0  21263282_20230402_063230_萌新新新MC终末地旅行DAY5.flv\n",
      "        -2.1       -0.0  21263282_20230402_070434_萌新新新MC终末地旅行DAY5.flv\n",
      "         1.9       -0.0  21263282_20230402_070610_萌新新新MC终末地旅行DAY5.flv\n",
      "        -4.9       -0.0  21263282_20230402_070641_萌新新新MC终末地旅行DAY5.flv\n",
      "        -4.3       -0.0  21263282_20230402_070706_萌新新新MC终末地旅行DAY5.flv\n",
      "       -15.4       -0.0  21263282_20230402_071032_萌新新新MC终末地旅行DAY5.flv\n",
      "        -5.9       -0.0  21263282_20230402_071743_萌新新新MC终末地旅行DAY5.flv\n",
      "        -2.0       -0.0  21263282_20230402_071800_萌新新新MC终末地旅行DAY5.flv\n",
      "        -4.1       -0.0  21263282_20230402_071823_萌新新新MC终末地旅行DAY5.flv\n",
      "        -0.8       -0.0  21263282_20230402_072402_萌新新新MC终末地旅行DAY5.flv\n",
      "        -4.7      -13.3  21263282_20230402_072417_萌新新新MC终末地旅行DAY5.flv\n",
      "         4.3       -0.0  21263282_20230402_081339_萌新新新MC终末地旅行DAY5.flv\n",
      "         4.1       -0.0  21263282_20230403_070837_萌新新新MC终末地旅行DAY6.flv\n",
      "         2.9       -0.0  21263282_20230403_070926_萌新新新MC终末地旅行DAY6.flv\n",
      "        -4.5       -0.0  21263282_20230403_070930_萌新新新MC终末地旅行DAY6.flv\n",
      "         4.4       -0.0  21263282_20230403_071001_萌新新新MC终末地旅行DAY6.flv\n",
      "         4.7       -0.0  21263282_20230403_071435_萌新新新MC终末地旅行DAY6.flv\n",
      "        -1.9       -0.0  21263282_20230403_112054_萌新新新MC终末地旅行DAY6.flv\n",
      "         7.3       -0.0  21263282_20230403_112731_萌新新新MC终末地旅行DAY6.flv\n",
      "         1.4       -0.0  21263282_20230403_114716_萌新新新MC终末地旅行DAY6.flv\n",
      "        -2.6       -0.0  21263282_20230403_153533_萌新新新MC终末地旅行DAY6.flv\n",
      "        -1.1       -0.0  21263282_20230404_050211_哎呀，先吃烤鸭.flv\n",
      "        11.3       -0.0  21263282_20230404_065014_哎呀，先吃烤鸭.flv\n",
      "         2.2       -0.0  21263282_20230404_065258_哎呀，先吃烤鸭.flv\n",
      "         2.3       -0.0  21263282_20230404_072022_哎呀，先吃烤鸭.flv\n",
      "         2.9       -0.0  21263282_20230404_072101_哎呀，先吃烤鸭.flv\n",
      "         4.9       -0.0  21263282_20230404_072109_哎呀，先吃烤鸭.flv\n",
      "        -1.4      -12.3  21263282_20230404_072116_哎呀，先吃烤鸭.flv\n",
      "        -5.3       -0.0  21263282_20230405_055604_呆呆鸟MC终末地旅行DAY7.flv\n",
      "        -3.3      -15.5  21263282_20230405_055631_呆呆鸟MC终末地旅行DAY7.flv\n",
      "       -10.6       -5.9  22259479_20230401_103618_月底开始偷玩mc.flv\n",
      "        -5.2       -0.0  22259479_20230402_180830_四月开始爽玩mc.flv\n",
      "        -0.1       -0.0  22259479_20230403_111922_四月开始爽玩mc.flv\n",
      "        -4.5       -0.0  22259479_20230404_222351_四月开始爽玩mc.flv\n",
      "         2.1       -0.0  22259479_20230405_071445_四月开始爽玩mc.flv\n",
      "         2.1       -0.0  25206807_20230401_130540_MCMCMC.flv\n",
      "        -2.1       -0.0  25206807_20230401_171209_12小时挑战.flv\n",
      "        -0.3       -0.0  25206807_20230402_040218_崩崩崩.flv\n",
      "        -3.0       -0.0  25206807_20230402_041708_崩崩崩.flv\n",
      "         2.8       -0.0  25206807_20230402_041718_崩崩崩.flv\n",
      "         0.9       -0.0  25206807_20230403_030132_先崩.flv\n",
      "        -0.5       -0.0  25206807_20230405_050050_我就不信看个二崩漫画还会哭.flv\n",
      "      -146.6      -11.2  47867_20230402_024357_冲啊！！！！.flv\n",
      "         2.0       -0.0  47867_20230402_083212_单排上钻！冲啊！！！！.flv\n",
      "         1.6       -0.0  47867_20230403_032032_今天一定能上钻！.flv\n",
      "         1.6       -0.0  47867_20230403_061127_哈哈哈哈哈哈哈哈哈哈哈哈哈哈哈哈哈哈哈.flv\n",
      "        -0.6       -0.0  47867_20230403_061148_哈哈哈哈哈哈哈哈哈哈哈哈哈哈哈哈哈哈哈.flv\n",
      "        -3.6      -13.1  47867_20230404_043528_开心捏.flv\n",
      "        -2.6       -0.0  47867_20230404_045538_开心捏.flv\n",
      "        -5.9      -11.9  47867_20230404_045545_开心捏.flv\n",
      "         8.6       -0.0  47867_20230404_045601_开心捏.flv\n",
      "       -12.0      -15.3  47867_20230404_045603_开心捏.flv\n",
      "        -0.8      -10.4  47867_20230404_050235_开心捏.flv\n",
      "        -6.3      -11.8  47867_20230405_012501_体能训练day5.flv\n",
      "         4.8       -0.0  47867_20230405_012601_体能训练day5.flv\n",
      "        -0.2       -0.0  47867_20230405_064654_阿C今天又在玩什么捏.flv\n",
      "        -2.8       -0.0  4910271_20230402_001934_已经变成方块人的样子了！.flv\n",
      "        -9.0      -12.8  4910271_20230403_002702_已经变成方块人的样子了！.flv\n",
      "        -4.3      -19.5  4910271_20230403_002746_已经变成方块人的样子了！.flv\n",
      "        -9.9      -12.7  4910271_20230405_053219_奇妙的一天.flv\n",
      "       -78.9      -11.4  92613_20230402_025036_mc.flv\n",
      "         0.5       -0.0  92613_20230402_080139_mc.flv\n",
      "        -6.5      -14.8  92613_20230402_080507_mc.flv\n",
      "        -3.3       -0.0  92613_20230402_125709_mc.flv\n",
      "         7.9       -0.0  92613_20230403_024213_mc.flv\n",
      "         0.3       -0.0  92613_20230403_033216_mc.flv\n",
      "         0.1      -11.4  92613_20230404_033307_晚上好.flv\n",
      "        -5.2      -15.9  92613_20230404_033320_晚上好.flv\n",
      "        -0.5       -0.0  92613_20230404_115631_晚上好.flv\n",
      "        -2.7      -13.9  92613_20230405_025737_直接mc.flv\n",
      "         0.6       -0.0  92613_20230405_125524_方尖碑.flv\n",
      "       -36.7      -41.1  录制-47867-20230405-162601-373-体能训练day5.flv\n",
      "        -5.8      -10.2  录制-92613-20230403-183216-663-mc.flv\n"
     ]
    }
   ],
   "source": [
    "# dir = \"../test_files\"\n",
    "dir = \"/mnt/d/Videos/ApixC/apixC_MC终末旅行/transcode/\"\n",
    "\n",
    "# print duration inconsistency for all files in the directory\n",
    "print(\"duration-xml  video-xml  file\")\n",
    "for file in os.listdir(dir):\n",
    "    if file.endswith(\".flv\") or file.endswith(\".mp4\"):\n",
    "        print(\"{:>12.1f}  {:>9.1f}  {}\".format(*get_duration_inconsistency(os.path.join(dir, file)), file))"
   ]
  },
  {
   "attachments": {},
   "cell_type": "markdown",
   "metadata": {},
   "source": [
    "# Load Danmaku to the Pool"
   ]
  },
  {
   "cell_type": "code",
   "execution_count": 23,
   "metadata": {},
   "outputs": [],
   "source": [
    "# dir = \"/mnt/d/Videos/ApixC/apixC_MC终末旅行/transcode/\"\n",
    "dir = \"../test_files/\"\n",
    "\n",
    "danmaku_pool = DanmakuPool()\n",
    "\n",
    "for file in os.listdir(dir):\n",
    "    if file.endswith(\".xml\"):\n",
    "        load_danmaku(os.path.join(dir, file), danmaku_pool)\n"
   ]
  },
  {
   "cell_type": "code",
   "execution_count": 24,
   "metadata": {},
   "outputs": [
    {
     "name": "stdout",
     "output_type": "stream",
     "text": [
      "              time    offset  roomid        uid          uname     color  \\\n",
      "0     1.658319e+09  0.527967   47867   81658411            格罗兹   4546550   \n",
      "1     1.658319e+09  0.295967   47867   14223223         8842H2  16777215   \n",
      "2     1.658319e+09  0.230967   47867  385697386            枫仙蛋  16777215   \n",
      "3     1.658319e+09 -0.075033   47867   16404765            昨夜语  16777215   \n",
      "4     1.658319e+09 -0.251033   47867   29757771  Invincible无敌菌  16777215   \n",
      "...            ...       ...     ...        ...            ...       ...   \n",
      "5308  1.680518e+09  0.000000   92613    5688835     originater  16772431   \n",
      "5309  1.680518e+09  0.000000   92613     296016           背锅师爷  16772431   \n",
      "5310  1.680518e+09  0.000000   92613     262308     Flytorpedo  16772431   \n",
      "5311  1.680518e+09  0.000000   92613    1322070    VVVVWVVVVVV  16772431   \n",
      "5312  1.680518e+09  0.000000   92613    1642579        Krammai  16772431   \n",
      "\n",
      "      price                            text  \n",
      "0         0                        没事 边上没刷了  \n",
      "1         0                               1  \n",
      "2         0                             打电动  \n",
      "3         0                            全拆了吧  \n",
      "4         0                            外面危险  \n",
      "...     ...                             ...  \n",
      "5308     30                  研究生复试过了，给api打钱  \n",
      "5309     30  拿着你的激光对准他们的核电“出wei售xie”他们买你的电呗  \n",
      "5310     50                    今天30岁了，想要那个~  \n",
      "5311     30                    LB生日快乐，LB活久点  \n",
      "5312     50        今天生日去吃顿好的……接下来就轮到你了，API！  \n",
      "\n",
      "[5313 rows x 8 columns]\n"
     ]
    }
   ],
   "source": [
    "print(danmaku_pool.df)"
   ]
  },
  {
   "cell_type": "code",
   "execution_count": 27,
   "metadata": {},
   "outputs": [],
   "source": [
    "texts = danmaku_pool.df[\"text\"]"
   ]
  },
  {
   "cell_type": "code",
   "execution_count": 28,
   "metadata": {},
   "outputs": [
    {
     "name": "stdout",
     "output_type": "stream",
     "text": [
      "[('赞', 359), ('来了来了', 247), ('？', 115), ('乐', 111), ('1', 101), ('打电动', 51), ('吃零食', 48), ('草', 43), ('再生', 33), ('棒', 32), ('激光', 25), ('哈哈哈哈', 24), ('哈哈哈', 23), ('哈哈', 21), ('第一时间直播最新最热单机游戏，欢迎关注', 19), ('哈哈哈哈哈', 19), ('nldg', 19), ('爱你', 18), ('妙啊', 18), ('？？？', 17)]\n"
     ]
    }
   ],
   "source": [
    "# count elements in texts\n",
    "from collections import Counter\n",
    "c = Counter(texts)\n",
    "# show the top 20 in the counter\n",
    "print(c.most_common(20))"
   ]
  },
  {
   "cell_type": "code",
   "execution_count": null,
   "metadata": {},
   "outputs": [],
   "source": []
  }
 ],
 "metadata": {
  "kernelspec": {
   "display_name": "base",
   "language": "python",
   "name": "python3"
  },
  "language_info": {
   "codemirror_mode": {
    "name": "ipython",
    "version": 3
   },
   "file_extension": ".py",
   "mimetype": "text/x-python",
   "name": "python",
   "nbconvert_exporter": "python",
   "pygments_lexer": "ipython3",
   "version": "3.10.10"
  },
  "orig_nbformat": 4
 },
 "nbformat": 4,
 "nbformat_minor": 2
}
