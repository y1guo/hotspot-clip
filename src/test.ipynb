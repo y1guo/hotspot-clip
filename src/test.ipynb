{
 "cells": [
  {
   "cell_type": "code",
   "execution_count": 1,
   "metadata": {},
   "outputs": [],
   "source": [
    "%load_ext autoreload\n",
    "%autoreload 2\n",
    "from utils import *\n",
    "import json\n",
    "import re\n",
    "from scipy.optimize import minimize\n",
    "import matplotlib.pyplot as plt\n",
    "from collections import Counter"
   ]
  },
  {
   "cell_type": "code",
   "execution_count": 2,
   "metadata": {},
   "outputs": [],
   "source": [
    "recording_dir_list = [\n",
    "    # \"/mnt/d/Videos/ApixC/apixC_MC终末旅行/footages/20230329/\",\n",
    "    # \"/mnt/d/Videos/ApixC/apixC_MC终末旅行/footages/20230330/\",\n",
    "    # \"/mnt/d/Videos/ApixC/apixC_MC终末旅行/footages/20230331/\",\n",
    "    # \"/mnt/d/Videos/ApixC/apixC_MC终末旅行/footages/20230401/\",\n",
    "    # \"/mnt/d/Videos/ApixC/apixC_MC终末旅行/footages/20230402/\",\n",
    "    # \"/mnt/d/Videos/ApixC/apixC_MC终末旅行/footages/20230403/\",\n",
    "    # \"/mnt/d/Videos/ApixC/apixC_MC终末旅行/footages/20230404/\",\n",
    "    # \"/mnt/d/Videos/ApixC/apixC_MC终末旅行/footages/20230405/\",\n",
    "    \"/mnt/d/Videos/ApixC/apixC_MC终末旅行/footages/20230406/\",\n",
    "    \"/mnt/d/Videos/ApixC/apixC_MC终末旅行/footages/20230407/\",\n",
    "]\n",
    "# recording_dir_list = [\n",
    "#     \"../test_files/\"\n",
    "# ]\n"
   ]
  },
  {
   "attachments": {},
   "cell_type": "markdown",
   "metadata": {},
   "source": [
    "# Check Frame Lost\n"
   ]
  },
  {
   "cell_type": "code",
   "execution_count": null,
   "metadata": {},
   "outputs": [],
   "source": [
    "get_video_creation_time(\"../test_files/47867_20220720_050930_MC末世生存day2.mp4\")\n"
   ]
  },
  {
   "cell_type": "code",
   "execution_count": null,
   "metadata": {},
   "outputs": [],
   "source": [
    "get_xml_creation_time(\"../test_files/47867_20220720_050930_MC末世生存day2.xml\")\n"
   ]
  },
  {
   "cell_type": "code",
   "execution_count": null,
   "metadata": {},
   "outputs": [],
   "source": [
    "get_file_modification_time(\"../test_files/47867_20220720_050930_MC末世生存day2.mp4\")\n"
   ]
  },
  {
   "cell_type": "code",
   "execution_count": null,
   "metadata": {},
   "outputs": [],
   "source": [
    "get_file_modification_time(\"../test_files/47867_20220720_050930_MC末世生存day2.xml\")\n"
   ]
  },
  {
   "cell_type": "code",
   "execution_count": null,
   "metadata": {},
   "outputs": [],
   "source": [
    "get_file_modification_time(\"testfile.flv\")\n"
   ]
  },
  {
   "cell_type": "code",
   "execution_count": null,
   "metadata": {},
   "outputs": [],
   "source": [
    "get_video_duration(\"../test_files/47867_20220720_050930_MC末世生存day2.mp4\")\n"
   ]
  },
  {
   "cell_type": "code",
   "execution_count": null,
   "metadata": {},
   "outputs": [],
   "source": [
    "get_video_duration(\"testfile.flv\")\n"
   ]
  },
  {
   "cell_type": "code",
   "execution_count": null,
   "metadata": {},
   "outputs": [],
   "source": [
    "get_duration_inconsistency(\"../test_files/47867_20220720_050930_MC末世生存day2.mp4\")\n"
   ]
  },
  {
   "cell_type": "code",
   "execution_count": null,
   "metadata": {},
   "outputs": [],
   "source": [
    "get_video_creation_time(\"/mnt/d/Videos/ApixC/apixC_MC终末旅行/transcode/12962_20230401_235504_玩MC.flv\")\n"
   ]
  },
  {
   "cell_type": "code",
   "execution_count": null,
   "metadata": {},
   "outputs": [],
   "source": [
    "# print duration inconsistency for all files in the directory\n",
    "print(\"duration-xml  video-xml  file\")\n",
    "for dir in recording_dir_list:\n",
    "    for file in os.listdir(dir):\n",
    "        if file.endswith(\".flv\") or file.endswith(\".mp4\"):\n",
    "            print(\"{:>12.1f}  {:>9.1f}  {}\".format(*get_duration_inconsistency(os.path.join(dir, file)), file))\n"
   ]
  },
  {
   "attachments": {},
   "cell_type": "markdown",
   "metadata": {},
   "source": [
    "# Load Danmaku to the Pool\n"
   ]
  },
  {
   "cell_type": "code",
   "execution_count": 3,
   "metadata": {},
   "outputs": [
    {
     "name": "stdout",
     "output_type": "stream",
     "text": [
      "added 12962_20230405_230833_四点舟.xml\n",
      "added 12962_20230406_060012_这是什么？主线？打一下.xml\n",
      "added 12962_20230406_075032_困困MC.xml\n",
      "added 22259479_20230406_010006_流浪街头卖画为生.xml\n",
      "added 22259479_20230406_012943_流浪街头卖画为生.xml\n",
      "added 22259479_20230406_040942_流浪街头卖画为生.xml\n",
      "added 22259479_20230406_060003_流浪街头卖画为生.xml\n",
      "added 25206807_20230406_030100_我就不信看个二崩漫画还会哭.xml\n",
      "added 25206807_20230406_115112_MCMCMC.xml\n",
      "added 25206807_20230406_115116_MCMCMC.xml\n",
      "added 47867_20230406_031832_阿C今天又在搞什么.xml\n",
      "added 47867_20230406_054010_阿C今天又在搞什么.xml\n",
      "added 47867_20230406_075302_阿C今天又在搞什么.xml\n",
      "added 47867_20230406_091021_阿C今天又在搞什么.xml\n",
      "added 47867_20230406_091041_阿C今天又在搞什么.xml\n",
      "added 47867_20230406_091207_阿C今天又在搞什么.xml\n",
      "added 47867_20230406_091234_阿C今天又在搞什么.xml\n",
      "added 47867_20230406_091236_阿C今天又在搞什么.xml\n",
      "added 47867_20230406_091250_阿C今天又在搞什么.xml\n",
      "added 47867_20230406_095446_阿C今天又在搞什么.xml\n",
      "added 47867_20230406_095501_阿C今天又在搞什么.xml\n",
      "added 47867_20230406_095803_阿C今天又在搞什么.xml\n",
      "added 47867_20230406_101709_阿C今天又在搞什么.xml\n",
      "added 47867_20230406_101740_阿C今天又在搞什么.xml\n",
      "added 47867_20230406_121947_阿C今天又在搞什么.xml\n",
      "added 92613_20230406_030828_先MC之后舟.xml\n",
      "added 92613_20230406_055951_MC.xml\n",
      "added 92613_20230406_085203_MC.xml\n",
      "added 92613_20230406_085211_MC.xml\n",
      "added 92613_20230406_085234_MC.xml\n",
      "added 92613_20230406_121913_派派.xml\n",
      "added 录制-47867-20230407-001236-612-阿C今天又在搞什么.xml\n",
      "added 12962_20230406_233631_先π.xml\n",
      "added 21263282_20230406_215720_早起傻一天.xml\n",
      "added 21263282_20230406_215830_早起傻一天.xml\n",
      "added 25206807_20230407_041621_先崩！.xml\n",
      "added 25206807_20230407_042738_先崩！.xml\n",
      "added 47867_20230407_012016_阿C今天又在搞什么.xml\n",
      "added 47867_20230407_070322_阿C今天又在搞什么.xml\n",
      "added 47867_20230407_070743_阿C今天又在搞什么.xml\n",
      "added 47867_20230407_084816_阿C今天又在搞什么.xml\n",
      "added 47867_20230407_084817_阿C今天又在搞什么.xml\n",
      "added 47867_20230407_084819_阿C今天又在搞什么.xml\n",
      "added 47867_20230407_084831_阿C今天又在搞什么.xml\n",
      "added 47867_20230407_084855_阿C今天又在搞什么.xml\n",
      "added 92613_20230407_032255_先舟.xml\n",
      "added 92613_20230407_070743_π.xml\n"
     ]
    }
   ],
   "source": [
    "danmaku_pool = DanmakuPool()\n",
    "\n",
    "for dir in recording_dir_list:\n",
    "    for file in os.listdir(dir):\n",
    "        if file.endswith(\".xml\"):\n",
    "            danmaku_pool.add_danmaku_from_xml(os.path.join(dir, file))\n",
    "            print(\"added {}\".format(file))\n"
   ]
  },
  {
   "cell_type": "code",
   "execution_count": null,
   "metadata": {},
   "outputs": [],
   "source": [
    "danmaku_pool.df\n"
   ]
  },
  {
   "cell_type": "code",
   "execution_count": null,
   "metadata": {},
   "outputs": [],
   "source": [
    "danmaku_pool = blacklist_filter(danmaku_pool, BLACKLIST)\n"
   ]
  },
  {
   "attachments": {},
   "cell_type": "markdown",
   "metadata": {},
   "source": [
    "# Examine Danmaku\n"
   ]
  },
  {
   "cell_type": "code",
   "execution_count": 4,
   "metadata": {},
   "outputs": [
    {
     "name": "stdout",
     "output_type": "stream",
     "text": [
      "Room ID: 12962\n",
      "   770 乐\n",
      "   556 ？\n",
      "   191 草\n",
      "   138 来了来了\n",
      "   105 赞\n",
      "   100 你小子\n",
      "    91 ?\n",
      "    52 1\n",
      "    30 牛哇牛哇\n",
      "    27 奶宝晚安\n",
      "    26 确实\n",
      "    26 ？？？\n",
      "    22 笑死\n",
      "    19 好好好\n",
      "    18 可以\n",
      "    18 ？？\n",
      "    17 哈哈哈哈\n",
      "    16 妙啊\n",
      "    14 哈哈哈\n",
      "    13 艹\n",
      "    13 哎呦\n",
      "    13 啊？\n",
      "    13 也？\n",
      "    12 咱家\n",
      "    11 坏了\n",
      "    11 烤鱼\n",
      "    10 ？？？？\n",
      "    10 哇\n",
      "     9 [dog]\n",
      "     9 天才\n",
      "     9 打卡\n",
      "     9 这片大地\n",
      "     9 烤肠机\n",
      "     9 开门\n",
      "     8 是的\n",
      "     8 寄\n",
      "     8 好\n",
      "     8 _(:3」∠)_\n",
      "     8 也\n",
      "     7 都怪api\n",
      "     7 哎哟，明日方舟\n",
      "     7 ？？？？？\n",
      "     7 受不了了，跟奶茶星爆了\n",
      "     7 我超\n",
      "     7 还真是\n",
      "     7 跑步机\n",
      "     7 由手\n",
      "     6 哎呦，明日方舟\n",
      "     6 [C酱兔兔纪念装扮_鹅鹅鹅]\n",
      "     6 谢谢老板\n",
      "Room ID: 22259479\n",
      "   491 乐\n",
      "   229 来了来了\n",
      "   175 上下\n",
      "   109 1\n",
      "   104 暗中观察\n",
      "   103 鱼脑过载\n",
      "   102 赞\n",
      "   101 爆睡\n",
      "    85 疑惑\n",
      "    85 惊\n",
      "    75 哼哼\n",
      "    69 警觉\n",
      "    67 害羞\n",
      "    47 草\n",
      "    47 ？\n",
      "    45 可爱\n",
      "    35 麻烦点点左上角-人气榜-免费人气票，助力烤鱼谢谢\n",
      "    34 哈哈哈\n",
      "    30 多吃\n",
      "    26 今晚吃啥\n",
      "    25 哈哈哈哈\n",
      "    24 可爱捏\n",
      "    24 哇\n",
      "    20 哈哈哈哈哈\n",
      "    11 好可爱\n",
      "    11 2333\n",
      "    11 坏了\n",
      "    10 哈哈哈哈哈哈\n",
      "    10 妙啊\n",
      "    10 你先别急\n",
      "    10 哈哈哈哈哈哈哈哈哈\n",
      "     9 [C酱兔兔纪念装扮_鹅鹅鹅]\n",
      "     9 确实\n",
      "     9 江郎才尽\n",
      "     8 私密马赛\n",
      "     8 烤鱼面包\n",
      "     7 包包\n",
      "     7 坨坨\n",
      "     7 (^・ω・^ )\n",
      "     7 艹\n",
      "     7 总之道歉\n",
      "     7 龙卷风摧毁停车场\n",
      "     7 打卡\n",
      "     6 233\n",
      "     6 [少年Pi_乐]\n",
      "     6 api吃菠萝\n",
      "     6 。\n",
      "     6 lbb\n",
      "     6 饿了\n",
      "     6 笑死\n",
      "Room ID: 25206807\n",
      "  1772 哈哈哈哈\n",
      "   963 车车\n",
      "   713 ？\n",
      "   664 比心\n",
      "   481 哭哭\n",
      "   384 问号\n",
      "   362 赞\n",
      "   351 乐\n",
      "   325 打call\n",
      "   245 牛蛙\n",
      "   204 寄\n",
      "   189 别急\n",
      "   189 哈哈哈哈哈\n",
      "   179 ？？？\n",
      "   165 晚安\n",
      "   160 哈哈哈\n",
      "   139 确实\n",
      "   138 ok\n",
      "   117 血压\n",
      "   115 1\n",
      "   106 草\n",
      "   104 哈哈哈哈哈哈\n",
      "    99 你猜\n",
      "    95 是的\n",
      "    92 [墨镜][墨镜][墨镜]\n",
      "    87 急\n",
      "    82 妙啊\n",
      "    76 [墨镜][墨镜][墨镜][墨镜]\n",
      "    65 ？？？？\n",
      "    63 ？？\n",
      "    62 车车！\n",
      "    57 不是\n",
      "    56 对\n",
      "    53 爆大米咯\n",
      "    52 哈哈哈哈哈哈哈\n",
      "    52 没有\n",
      "    50 好好好\n",
      "    50 对的\n",
      "    48 [墨镜][墨镜][墨镜][墨镜][墨镜]\n",
      "    44 6\n",
      "    43 ?\n",
      "    42 有点东西\n",
      "    42 乆\n",
      "    40 哈哈哈哈哈哈哈哈\n",
      "    39 笑死\n",
      "    38 ？？？？？\n",
      "    38 正确的\n",
      "    37 好骂\n",
      "    36 甜甜甜\n",
      "    36 乆乆乆\n",
      "Room ID: 47867\n",
      "  4568 哇\n",
      "  4163 嘎噢！！！\n",
      "  3416 乐\n",
      "  2967 流汗了\n",
      "  2621 ？\n",
      "  2108 赞\n",
      "  1835 1\n",
      "  1828 哇啊啊啊\n",
      "  1724 biu\n",
      "  1427 啊啊啊\n",
      "  1076 救救肉包\n",
      "   998 呜\n",
      "   989 冲！\n",
      "   987 你真行\n",
      "   897 咦呃\n",
      "   735 哈哈哈\n",
      "   713 两眼一黑\n",
      "   676 哈哈哈哈\n",
      "   669 ？？？\n",
      "   546 寄\n",
      "   511 哈哈哈哈哈\n",
      "   467 [C酱兔兔纪念装扮_鹅鹅鹅]\n",
      "   455 在steam上玩的乞丐模拟器\n",
      "   355 妙啊\n",
      "   353 ?\n",
      "   331 [C酱兔兔纪念装扮_害怕]\n",
      "   328 哈哈哈哈哈哈\n",
      "   313 [C酱兔兔纪念装扮_流汗]\n",
      "   298 打卡\n",
      "   297 很急\n",
      "   281 确实\n",
      "   260 ？？\n",
      "   244 好好好\n",
      "   244 2\n",
      "   234 .\n",
      "   232 第一时间直播最新最热单机游戏，欢迎关注\n",
      "   223 。\n",
      "   218 [C酱兔兔纪念装扮_爱肉包]\n",
      "   217 哈哈哈哈哈哈哈\n",
      "   216 来了来了\n",
      "   216 别急\n",
      "   216 可爱捏\n",
      "   212 3\n",
      "   209 哈哈\n",
      "   201 有点东西\n",
      "   199 什么游戏\n",
      "   198 2333\n",
      "   198 点击人气榜，里面有免费的人气票可以送送哦\n",
      "   195 4\n",
      "   194 ？？？？\n",
      "Room ID: 92613\n",
      "  5626 乐\n",
      "  3494 ？\n",
      "  1732 来了来了\n",
      "  1614 1\n",
      "  1595 草\n",
      "   508 赞\n",
      "   419 太强了\n",
      "   400 ?\n",
      "   326 永远爱你\n",
      "   315 好好好\n",
      "   231 呃呃\n",
      "   221 ？？？\n",
      "   210 确实\n",
      "   182 [少年Pi_乐]\n",
      "   179 kale\n",
      "   155 原地去世\n",
      "   149 哈哈哈哈\n",
      "   136 啊？\n",
      "   117 坏了\n",
      "   108 ？？\n",
      "   107 我超\n",
      "   103 帅\n",
      "    95 妙啊\n",
      "    95 哈哈哈\n",
      "    90 smbdj\n",
      "    85 流汗了\n",
      "    85 笑死\n",
      "    84 哇\n",
      "    81 艹\n",
      "    77 先以撒\n",
      "    77 哈哈哈哈哈\n",
      "    76 哈哈哈哈哈哈\n",
      "    74 好\n",
      "    74 ↑↓\n",
      "    73 抱歉\n",
      "    72 帅啊\n",
      "    70 [C酱兔兔纪念装扮_鹅鹅鹅]\n",
      "    70 666\n",
      "    67 卧槽\n",
      "    66 你来你来\n",
      "    65 [少年Pi_酷哥]\n",
      "    65 6\n",
      "    65 直球吃到饱\n",
      "    63 马\n",
      "    58 游戏是Steam的《渔帆暗涌》\n",
      "    54 ？？？？\n",
      "    54 爆了\n",
      "    54 你就冲吧\n",
      "    54 queder\n",
      "    51 2333\n",
      "Room ID: 21263282\n",
      "   710 诶嘿！\n",
      "   501 乐！\n",
      "   497 睡大觉\n",
      "   340 坏笑\n",
      "   334 ？\n",
      "   310 乐\n",
      "   290 呆\n",
      "   228 赢\n",
      "   211 早上好\n",
      "   200 赞\n",
      "   180 睡捉了\n",
      "   179 裹紧被几\n",
      "   123 吃电池\n",
      "    90 加由\n",
      "    76 疑问\n",
      "    71 摸鱼\n",
      "    59 AWSL\n",
      "    56 1\n",
      "    55 [Yommyko_乐]\n",
      "    46 ?\n",
      "    41 ？？？\n",
      "    39 草\n",
      "    33 晚安\n",
      "    31 哈哈哈\n",
      "    29 哈哈哈哈\n",
      "    28 好好好\n",
      "    26 妙啊\n",
      "    26 煮人\n",
      "    21 永远爱你\n",
      "    21 水开了\n",
      "    21 每日录播上传在这个号\n",
      "    21 舰长加qun未响应的可以私聊原原本本房管\n",
      "    20 哈哈\n",
      "    20 哈哈哈哈哈\n",
      "    18 哈哈哈哈哈哈\n",
      "    18 [dog]\n",
      "    18 双击点赞增加人气值喵~\n",
      "    17 [C酱兔兔纪念装扮_鹅鹅鹅]\n",
      "    17 啊？\n",
      "    17 请遵守弹幕礼仪，友善发言哦~\n",
      "    17 欢迎上贼船一起玩耍\n",
      "    16 烤鱼\n",
      "    15 乖巧\n",
      "    15 帅\n",
      "    14 [Yommyko_暗中观察]\n",
      "    13 [Yommyko_大声]\n",
      "    13 笑死\n",
      "    13 ？？\n",
      "    13 也\n",
      "    13 游戏 GTFO\n"
     ]
    }
   ],
   "source": [
    "danmaku_pool.show_common_danmaku()\n"
   ]
  },
  {
   "attachments": {},
   "cell_type": "markdown",
   "metadata": {},
   "source": [
    "# Detect Hotspots\n"
   ]
  },
  {
   "cell_type": "code",
   "execution_count": 5,
   "metadata": {},
   "outputs": [
    {
     "name": "stdout",
     "output_type": "stream",
     "text": [
      "kernel stdev: 10\n"
     ]
    }
   ],
   "source": [
    "print(\"kernel stdev:\", KERNEL_SIGMA)\n",
    "time, density = danmaku_pool.get_danmaku_density_gaussian(\"47867\", kernel_sigma=KERNEL_SIGMA)\n"
   ]
  },
  {
   "cell_type": "code",
   "execution_count": null,
   "metadata": {},
   "outputs": [],
   "source": [
    "hotspots = get_hotspots(time, density, kernel_sigma=KERNEL_SIGMA, show_plot=True, show_progress=True)\n",
    "print(f\"Found {len(hotspots)} hotspots\")\n",
    "hotspots\n"
   ]
  },
  {
   "attachments": {},
   "cell_type": "markdown",
   "metadata": {},
   "source": [
    "# Get Clips\n"
   ]
  },
  {
   "cell_type": "code",
   "execution_count": null,
   "metadata": {},
   "outputs": [],
   "source": [
    "clips = get_clips(hotspots, percentile=0.75)\n",
    "clips_duration = 0\n",
    "for _, row in clips.iterrows():\n",
    "    print(datetime.datetime.fromtimestamp(row[\"end\"]) - datetime.datetime.fromtimestamp(row[\"start\"]))\n",
    "    clips_duration += row[\"end\"] - row[\"start\"]\n",
    "print(\"Total duration:\", datetime.timedelta(seconds=clips_duration))\n",
    "raw_duration = time.max() - time.min()\n",
    "print(\"Raw duration:\", datetime.timedelta(seconds=raw_duration))\n",
    "print(\"Ratio:\", raw_duration / clips_duration)\n"
   ]
  },
  {
   "attachments": {},
   "cell_type": "markdown",
   "metadata": {},
   "source": [
    "# Load Videos to the Pool\n"
   ]
  },
  {
   "cell_type": "code",
   "execution_count": null,
   "metadata": {},
   "outputs": [],
   "source": [
    "dir = \"../test_files/\"\n",
    "# dir = \"/mnt/d/Videos/ApixC/apixC_MC终末旅行/footages/20230403/\"\n",
    "\n",
    "video_pool = VideoPool()\n",
    "for file in os.listdir(dir):\n",
    "    if file.endswith(\".flv\") or file.endswith(\".mp4\"):\n",
    "        video_pool.add_video(os.path.join(dir, file))\n",
    "        print(\"added {}\".format(file))\n",
    "video_pool.df\n"
   ]
  },
  {
   "attachments": {},
   "cell_type": "markdown",
   "metadata": {},
   "source": [
    "# Write Clips to the Files\n"
   ]
  },
  {
   "cell_type": "code",
   "execution_count": null,
   "metadata": {},
   "outputs": [],
   "source": [
    "out_dir = \"../test_files/\"\n",
    "video_pool.generate_clips(\"47867\", clips, out_dir, danmaku_pool=danmaku_pool)\n"
   ]
  },
  {
   "attachments": {},
   "cell_type": "markdown",
   "metadata": {},
   "source": [
    "# Whitelist Filter\n"
   ]
  },
  {
   "cell_type": "code",
   "execution_count": null,
   "metadata": {},
   "outputs": [],
   "source": [
    "danmaku_pool.df\n"
   ]
  },
  {
   "attachments": {},
   "cell_type": "markdown",
   "metadata": {},
   "source": [
    "# Find Keywords\n"
   ]
  },
  {
   "cell_type": "code",
   "execution_count": null,
   "metadata": {},
   "outputs": [],
   "source": [
    "keywords = [\n",
    "    \n",
    "]\n",
    "danmaku_pool_select = danmaku_pool.whitelist_filter(keywords, \"92613\")\n",
    "danmaku_pool_select.df\n"
   ]
  },
  {
   "cell_type": "code",
   "execution_count": null,
   "metadata": {},
   "outputs": [],
   "source": [
    "danmaku_pool_select.show_common_danmaku()\n"
   ]
  },
  {
   "cell_type": "code",
   "execution_count": null,
   "metadata": {},
   "outputs": [],
   "source": [
    "time, density = danmaku_pool_select.get_danmaku_density_gaussian(\"92613\", kernel_sigma=KERNEL_SIGMA)\n",
    "hotspots = get_hotspots(time, density, kernel_sigma=KERNEL_SIGMA, show_plot=True, show_progress=True)\n"
   ]
  },
  {
   "cell_type": "code",
   "execution_count": null,
   "metadata": {},
   "outputs": [],
   "source": [
    "clips = get_clips(hotspots)\n"
   ]
  },
  {
   "cell_type": "code",
   "execution_count": null,
   "metadata": {},
   "outputs": [],
   "source": [
    "_pool = DanmakuPool()\n",
    "for _, row in clips.iterrows():\n",
    "    # select danmaku from danmaku_pool between row[\"start\"] and row[\"end\"]\n",
    "    _pool.df = pd.concat(\n",
    "        [\n",
    "            _pool.df,\n",
    "            danmaku_pool.df[(danmaku_pool.df[\"time\"] >= row[\"start\"]) & (danmaku_pool.df[\"time\"] <= row[\"end\"])],\n",
    "        ],\n",
    "        ignore_index=True,\n",
    "    )\n"
   ]
  },
  {
   "cell_type": "code",
   "execution_count": null,
   "metadata": {},
   "outputs": [],
   "source": [
    "_pool.whitelist_filter(roomid=\"92613\").show_common_danmaku(num=200)\n"
   ]
  },
  {
   "cell_type": "code",
   "execution_count": null,
   "metadata": {},
   "outputs": [],
   "source": []
  }
 ],
 "metadata": {
  "kernelspec": {
   "display_name": "base",
   "language": "python",
   "name": "python3"
  },
  "language_info": {
   "codemirror_mode": {
    "name": "ipython",
    "version": 3
   },
   "file_extension": ".py",
   "mimetype": "text/x-python",
   "name": "python",
   "nbconvert_exporter": "python",
   "pygments_lexer": "ipython3",
   "version": "3.10.10"
  },
  "orig_nbformat": 4
 },
 "nbformat": 4,
 "nbformat_minor": 2
}
