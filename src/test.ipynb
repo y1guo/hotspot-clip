{
 "cells": [
  {
   "cell_type": "code",
   "execution_count": null,
   "metadata": {},
   "outputs": [],
   "source": [
    "%load_ext autoreload\n",
    "%autoreload 2\n",
    "from utils import *\n",
    "import json\n",
    "import re\n",
    "from scipy.optimize import minimize\n",
    "import matplotlib.pyplot as plt\n",
    "from collections import Counter"
   ]
  },
  {
   "cell_type": "code",
   "execution_count": null,
   "metadata": {},
   "outputs": [],
   "source": [
    "recording_dir_list = [\n",
    "    \"/mnt/d/Videos/ApixC/apixC_MC终末旅行/footages/20230329/\",\n",
    "    \"/mnt/d/Videos/ApixC/apixC_MC终末旅行/footages/20230330/\",\n",
    "    \"/mnt/d/Videos/ApixC/apixC_MC终末旅行/footages/20230331/\",\n",
    "    \"/mnt/d/Videos/ApixC/apixC_MC终末旅行/footages/20230401/\",\n",
    "    \"/mnt/d/Videos/ApixC/apixC_MC终末旅行/footages/20230402/\",\n",
    "    \"/mnt/d/Videos/ApixC/apixC_MC终末旅行/footages/20230403/\",\n",
    "    \"/mnt/d/Videos/ApixC/apixC_MC终末旅行/footages/20230404/\",\n",
    "    \"/mnt/d/Videos/ApixC/apixC_MC终末旅行/footages/20230405/\",\n",
    "    \"/mnt/d/Videos/ApixC/apixC_MC终末旅行/footages/20230406/\",\n",
    "    \"/mnt/d/Videos/ApixC/apixC_MC终末旅行/footages/20230407/\",\n",
    "]\n",
    "# recording_dir_list = [\n",
    "#     \"../test_files/\"\n",
    "# ]\n"
   ]
  },
  {
   "attachments": {},
   "cell_type": "markdown",
   "metadata": {},
   "source": [
    "# Check Frame Lost\n"
   ]
  },
  {
   "cell_type": "code",
   "execution_count": null,
   "metadata": {},
   "outputs": [],
   "source": [
    "get_video_creation_time(\"../test_files/47867_20220720_050930_MC末世生存day2.mp4\")\n"
   ]
  },
  {
   "cell_type": "code",
   "execution_count": null,
   "metadata": {},
   "outputs": [],
   "source": [
    "get_xml_creation_time(\"../test_files/47867_20220720_050930_MC末世生存day2.xml\")\n"
   ]
  },
  {
   "cell_type": "code",
   "execution_count": null,
   "metadata": {},
   "outputs": [],
   "source": [
    "get_file_modification_time(\"../test_files/47867_20220720_050930_MC末世生存day2.mp4\")\n"
   ]
  },
  {
   "cell_type": "code",
   "execution_count": null,
   "metadata": {},
   "outputs": [],
   "source": [
    "get_file_modification_time(\"../test_files/47867_20220720_050930_MC末世生存day2.xml\")\n"
   ]
  },
  {
   "cell_type": "code",
   "execution_count": null,
   "metadata": {},
   "outputs": [],
   "source": [
    "get_file_modification_time(\"testfile.flv\")\n"
   ]
  },
  {
   "cell_type": "code",
   "execution_count": null,
   "metadata": {},
   "outputs": [],
   "source": [
    "get_video_duration(\"../test_files/47867_20220720_050930_MC末世生存day2.mp4\")\n"
   ]
  },
  {
   "cell_type": "code",
   "execution_count": null,
   "metadata": {},
   "outputs": [],
   "source": [
    "get_video_duration(\"testfile.flv\")\n"
   ]
  },
  {
   "cell_type": "code",
   "execution_count": null,
   "metadata": {},
   "outputs": [],
   "source": [
    "get_duration_inconsistency(\"../test_files/47867_20220720_050930_MC末世生存day2.mp4\")\n"
   ]
  },
  {
   "cell_type": "code",
   "execution_count": null,
   "metadata": {},
   "outputs": [],
   "source": [
    "get_video_creation_time(\"/mnt/d/Videos/ApixC/apixC_MC终末旅行/transcode/12962_20230401_235504_玩MC.flv\")\n"
   ]
  },
  {
   "cell_type": "code",
   "execution_count": null,
   "metadata": {},
   "outputs": [],
   "source": [
    "# print duration inconsistency for all files in the directory\n",
    "print(\"duration-xml  video-xml  file\")\n",
    "for dir in recording_dir_list:\n",
    "    for file in os.listdir(dir):\n",
    "        if file.endswith(\".flv\") or file.endswith(\".mp4\"):\n",
    "            print(\"{:>12.1f}  {:>9.1f}  {}\".format(*get_duration_inconsistency(os.path.join(dir, file)), file))\n"
   ]
  },
  {
   "attachments": {},
   "cell_type": "markdown",
   "metadata": {},
   "source": [
    "# Load Danmaku to the Pool\n"
   ]
  },
  {
   "cell_type": "code",
   "execution_count": null,
   "metadata": {},
   "outputs": [],
   "source": [
    "danmaku_pool = DanmakuPool()\n",
    "\n",
    "for dir in recording_dir_list:\n",
    "    for file in os.listdir(dir):\n",
    "        if file.endswith(\".xml\"):\n",
    "            danmaku_pool.add_danmaku_from_xml(os.path.join(dir, file))\n",
    "            print(\"added {}\".format(file))\n"
   ]
  },
  {
   "cell_type": "code",
   "execution_count": null,
   "metadata": {},
   "outputs": [],
   "source": [
    "danmaku_pool.df\n"
   ]
  },
  {
   "cell_type": "code",
   "execution_count": null,
   "metadata": {},
   "outputs": [],
   "source": [
    "danmaku_pool = blacklist_filter(danmaku_pool, BLACKLIST)\n"
   ]
  },
  {
   "attachments": {},
   "cell_type": "markdown",
   "metadata": {},
   "source": [
    "# Examine Danmaku\n"
   ]
  },
  {
   "cell_type": "code",
   "execution_count": null,
   "metadata": {},
   "outputs": [],
   "source": [
    "danmaku_pool.show_common_danmaku()\n"
   ]
  },
  {
   "attachments": {},
   "cell_type": "markdown",
   "metadata": {},
   "source": [
    "# Detect Hotspots\n"
   ]
  },
  {
   "cell_type": "code",
   "execution_count": null,
   "metadata": {},
   "outputs": [],
   "source": [
    "print(\"kernel stdev:\", KERNEL_SIGMA)\n",
    "time, density = danmaku_pool.get_danmaku_density_gaussian(\"47867\", kernel_sigma=KERNEL_SIGMA)\n"
   ]
  },
  {
   "cell_type": "code",
   "execution_count": null,
   "metadata": {},
   "outputs": [],
   "source": [
    "hotspots = get_hotspots(time, density, kernel_sigma=KERNEL_SIGMA, show_plot=True, show_progress=True)\n",
    "print(f\"Found {len(hotspots)} hotspots\")\n",
    "hotspots\n"
   ]
  },
  {
   "attachments": {},
   "cell_type": "markdown",
   "metadata": {},
   "source": [
    "# Get Clips\n"
   ]
  },
  {
   "cell_type": "code",
   "execution_count": null,
   "metadata": {},
   "outputs": [],
   "source": [
    "clips = get_clips(hotspots, percentile=0.75)\n",
    "clips_duration = 0\n",
    "for _, row in clips.iterrows():\n",
    "    print(datetime.datetime.fromtimestamp(row[\"end\"]) - datetime.datetime.fromtimestamp(row[\"start\"]))\n",
    "    clips_duration += row[\"end\"] - row[\"start\"]\n",
    "print(\"Total duration:\", datetime.timedelta(seconds=clips_duration))\n",
    "raw_duration = time.max() - time.min()\n",
    "print(\"Raw duration:\", datetime.timedelta(seconds=raw_duration))\n",
    "print(\"Ratio:\", raw_duration / clips_duration)\n"
   ]
  },
  {
   "attachments": {},
   "cell_type": "markdown",
   "metadata": {},
   "source": [
    "# Load Videos to the Pool\n"
   ]
  },
  {
   "cell_type": "code",
   "execution_count": null,
   "metadata": {},
   "outputs": [],
   "source": [
    "dir = \"../test_files/\"\n",
    "# dir = \"/mnt/d/Videos/ApixC/apixC_MC终末旅行/footages/20230403/\"\n",
    "\n",
    "video_pool = VideoPool()\n",
    "for file in os.listdir(dir):\n",
    "    if file.endswith(\".flv\") or file.endswith(\".mp4\"):\n",
    "        video_pool.add_video(os.path.join(dir, file))\n",
    "        print(\"added {}\".format(file))\n",
    "video_pool.df\n"
   ]
  },
  {
   "attachments": {},
   "cell_type": "markdown",
   "metadata": {},
   "source": [
    "# Write Clips to the Files\n"
   ]
  },
  {
   "cell_type": "code",
   "execution_count": null,
   "metadata": {},
   "outputs": [],
   "source": [
    "out_dir = \"../test_files/\"\n",
    "video_pool.generate_clips(\"47867\", clips, out_dir, danmaku_pool=danmaku_pool)\n"
   ]
  },
  {
   "attachments": {},
   "cell_type": "markdown",
   "metadata": {},
   "source": [
    "# Whitelist Filter\n"
   ]
  },
  {
   "cell_type": "code",
   "execution_count": null,
   "metadata": {},
   "outputs": [],
   "source": [
    "danmaku_pool.df\n"
   ]
  },
  {
   "attachments": {},
   "cell_type": "markdown",
   "metadata": {},
   "source": [
    "# Find Keywords\n"
   ]
  },
  {
   "cell_type": "code",
   "execution_count": null,
   "metadata": {},
   "outputs": [],
   "source": [
    "keywords = [\n",
    "    \n",
    "]\n",
    "danmaku_pool_select = danmaku_pool.whitelist_filter(keywords, \"92613\")\n",
    "danmaku_pool_select.df\n"
   ]
  },
  {
   "cell_type": "code",
   "execution_count": null,
   "metadata": {},
   "outputs": [],
   "source": [
    "danmaku_pool_select.show_common_danmaku()\n"
   ]
  },
  {
   "cell_type": "code",
   "execution_count": null,
   "metadata": {},
   "outputs": [],
   "source": [
    "time, density = danmaku_pool_select.get_danmaku_density_gaussian(\"92613\", kernel_sigma=KERNEL_SIGMA)\n",
    "hotspots = get_hotspots(time, density, kernel_sigma=KERNEL_SIGMA, show_plot=True, show_progress=True)\n"
   ]
  },
  {
   "cell_type": "code",
   "execution_count": null,
   "metadata": {},
   "outputs": [],
   "source": [
    "clips = get_clips(hotspots)\n"
   ]
  },
  {
   "cell_type": "code",
   "execution_count": null,
   "metadata": {},
   "outputs": [],
   "source": [
    "_pool = DanmakuPool()\n",
    "for _, row in clips.iterrows():\n",
    "    # select danmaku from danmaku_pool between row[\"start\"] and row[\"end\"]\n",
    "    _pool.df = pd.concat(\n",
    "        [\n",
    "            _pool.df,\n",
    "            danmaku_pool.df[(danmaku_pool.df[\"time\"] >= row[\"start\"]) & (danmaku_pool.df[\"time\"] <= row[\"end\"])],\n",
    "        ],\n",
    "        ignore_index=True,\n",
    "    )\n"
   ]
  },
  {
   "cell_type": "code",
   "execution_count": null,
   "metadata": {},
   "outputs": [],
   "source": [
    "_pool.whitelist_filter(roomid=\"92613\").show_common_danmaku(num=200)\n"
   ]
  },
  {
   "cell_type": "code",
   "execution_count": null,
   "metadata": {},
   "outputs": [],
   "source": []
  }
 ],
 "metadata": {
  "kernelspec": {
   "display_name": "base",
   "language": "python",
   "name": "python3"
  },
  "language_info": {
   "codemirror_mode": {
    "name": "ipython",
    "version": 3
   },
   "file_extension": ".py",
   "mimetype": "text/x-python",
   "name": "python",
   "nbconvert_exporter": "python",
   "pygments_lexer": "ipython3",
   "version": "3.10.10"
  },
  "orig_nbformat": 4
 },
 "nbformat": 4,
 "nbformat_minor": 2
}
